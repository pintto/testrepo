{
  "metadata": {
    "kernelspec": {
      "name": "python",
      "display_name": "Pyolite",
      "language": "python"
    },
    "language_info": {
      "codemirror_mode": {
        "name": "python",
        "version": 3
      },
      "file_extension": ".py",
      "mimetype": "text/x-python",
      "name": "python",
      "nbconvert_exporter": "python",
      "pygments_lexer": "ipython3",
      "version": "3.8"
    }
  },
  "nbformat_minor": 4,
  "nbformat": 4,
  "cells": [
    {
      "cell_type": "markdown",
      "source": "<center>\n    <img src=\"https://cf-courses-data.s3.us.cloud-object-storage.appdomain.cloud/IBMDeveloperSkillsNetwork-DS0105EN-SkillsNetwork/labs/Module2/images/SN_web_lightmode.png\" width=\"300\" alt=\"cognitiveclass.ai logo\"  />\n</center>\n",
      "metadata": {}
    },
    {
      "cell_type": "markdown",
      "source": "#### Add your code below following the instructions given in the course\n",
      "metadata": {}
    },
    {
      "cell_type": "markdown",
      "source": "<h1>My Jupyter Notebook on IBM Watson Studio</h1>",
      "metadata": {}
    },
    {
      "cell_type": "markdown",
      "source": "<strong>Vasco Pinto</strong>\nComputer Science student",
      "metadata": {}
    },
    {
      "cell_type": "markdown",
      "source": "<i>I am interested in Data Science because I'm keen in Predictive modeling: Data scientists can use machine learning algorithms to build models that can predict future outcomes or behaviors based on past data. For example, a predictive model could be used to forecast sales figures or predict the likelihood of a customer churning.</br>\nI'm also interested in Fraud detection: Data scientists can use machine learning algorithms to identify patterns in data that may indicate fraudulent activity.</i>",
      "metadata": {}
    },
    {
      "cell_type": "markdown",
      "source": "<h3>This code prints a sentence</h3>",
      "metadata": {}
    },
    {
      "cell_type": "code",
      "source": "print(\"I'm excited to be learning Data Science\")",
      "metadata": {
        "trusted": true
      },
      "execution_count": 2,
      "outputs": [
        {
          "name": "stdout",
          "text": "I'm excited to be learning Data Science\n",
          "output_type": "stream"
        }
      ]
    },
    {
      "cell_type": "markdown",
      "source": "<h5>Bulleted List</h5>\n<ul>\n  <li>Item 1</li>\n  <li>Item 2</li>\n  <li>Item 3</li>\n</ul>\n<hr>\n<h5>Numbered List</h5>\n<ol>\n  <li>Item 1</li>\n  <li>Item 2</li>\n  <li>Item 3</li>\n</ol>\n<hr>\n<h5>A table</h5>\n<table>\n  <tr>\n    <th>Column 1</th>\n    <th>Column 2</th>\n  </tr>\n  <tr>\n    <td>Row 1, Cell 1</td>\n    <td>Row 1, Cell 2</td>\n  </tr>\n  <tr>\n    <td>Row 2, Cell 1</td>\n    <td>Row 2, Cell 2</td>\n  </tr>\n</table>\n<hr>\n<h5>Hyperlink</h5>\n<a href=\"http://www.example.com\">Click here to visit the example website</a>\n<hr>\n<h5>An image of a kitten</h5>\n<img src=\"http://placekitten.com/200/300\" alt=\"A Kitten\">\n\n",
      "metadata": {}
    }
  ]
}